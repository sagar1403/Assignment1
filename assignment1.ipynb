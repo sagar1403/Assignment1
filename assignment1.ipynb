{
 "cells": [
  {
   "cell_type": "markdown",
   "id": "11220b2c-1126-4e41-97a5-de3f4c135504",
   "metadata": {},
   "source": [
    "Q1. Create one variable containing following type of data ?\n",
    "(i) string\n",
    "(ii) list\n",
    "(iii) float\n",
    "(iv) tuple\n"
   ]
  },
  {
   "cell_type": "code",
   "execution_count": 105,
   "id": "615c9a44-15f4-4daa-b3ad-997b3174431a",
   "metadata": {},
   "outputs": [
    {
     "name": "stdout",
     "output_type": "stream",
     "text": [
      "<class 'str'>\n"
     ]
    }
   ],
   "source": [
    "N=\"sagar\"\n",
    "print(type(N))"
   ]
  },
  {
   "cell_type": "code",
   "execution_count": 67,
   "id": "c0280371-352c-4b21-b150-54bce9084be4",
   "metadata": {},
   "outputs": [
    {
     "name": "stdout",
     "output_type": "stream",
     "text": [
      "<class 'list'>\n"
     ]
    }
   ],
   "source": [
    "N=[1,2,3,4,\"sagar\",23.34,6+4j]\n",
    "print(type(N))"
   ]
  },
  {
   "cell_type": "code",
   "execution_count": 36,
   "id": "d00f6edb-c458-4bd9-a391-4ff9f0ec7e2d",
   "metadata": {},
   "outputs": [
    {
     "name": "stdout",
     "output_type": "stream",
     "text": [
      "<class 'float'>\n"
     ]
    }
   ],
   "source": [
    "N=23.34\n",
    "print(type(N))"
   ]
  },
  {
   "cell_type": "code",
   "execution_count": 37,
   "id": "74431a05-471e-44bf-bc1e-093472949890",
   "metadata": {},
   "outputs": [
    {
     "name": "stdout",
     "output_type": "stream",
     "text": [
      "<class 'tuple'>\n"
     ]
    }
   ],
   "source": [
    "N=(1,2,3,4,\"sagar\",23.34,6+4j)\n",
    "print(type(N))"
   ]
  },
  {
   "cell_type": "markdown",
   "id": "c1caad1e-24a4-492b-af6d-ae70a7e268d7",
   "metadata": {},
   "source": [
    "Q2. Given are some following variables containing data:\n",
    "(i) var1 = ‘ ‘\n",
    "(ii) var2 = ‘[ DS , ML , Python]’\n",
    "(iii) var3 = [ ‘DS’ , ’ML’ , ‘Python’ ]\n",
    "(iv) var4 = 1.\n",
    "What will be the data type of the above given variable."
   ]
  },
  {
   "cell_type": "code",
   "execution_count": 3,
   "id": "8f572d94-94c8-42b3-8017-60c2486954d8",
   "metadata": {},
   "outputs": [
    {
     "ename": "IndentationError",
     "evalue": "unexpected indent (1988386758.py, line 2)",
     "output_type": "error",
     "traceback": [
      "\u001b[0;36m  Cell \u001b[0;32mIn[3], line 2\u001b[0;36m\u001b[0m\n\u001b[0;31m    type(var1)\u001b[0m\n\u001b[0m    ^\u001b[0m\n\u001b[0;31mIndentationError\u001b[0m\u001b[0;31m:\u001b[0m unexpected indent\n"
     ]
    }
   ],
   "source": [
    "var1=''\n",
    "    type(var1)"
   ]
  },
  {
   "cell_type": "code",
   "execution_count": 44,
   "id": "be04c523-d32b-45d5-b461-48c72e1dcc0c",
   "metadata": {},
   "outputs": [
    {
     "ename": "SyntaxError",
     "evalue": "invalid character '‘' (U+2018) (100285119.py, line 1)",
     "output_type": "error",
     "traceback": [
      "\u001b[0;36m  Cell \u001b[0;32mIn[44], line 1\u001b[0;36m\u001b[0m\n\u001b[0;31m    var2 = ‘[ DS , ML , Python]’\u001b[0m\n\u001b[0m           ^\u001b[0m\n\u001b[0;31mSyntaxError\u001b[0m\u001b[0;31m:\u001b[0m invalid character '‘' (U+2018)\n"
     ]
    }
   ],
   "source": [
    " var2 = ‘[ DS , ML , Python]’\n",
    "type(var2)"
   ]
  },
  {
   "cell_type": "code",
   "execution_count": 43,
   "id": "3a410255-c8c4-4504-940f-597b7c9ecfdb",
   "metadata": {},
   "outputs": [
    {
     "data": {
      "text/plain": [
       "list"
      ]
     },
     "execution_count": 43,
     "metadata": {},
     "output_type": "execute_result"
    }
   ],
   "source": [
    "var3=[\"DS\", 'ML',\"Python\"]\n",
    "\n",
    "type(var3)"
   ]
  },
  {
   "cell_type": "code",
   "execution_count": null,
   "id": "3cd66d4f-00a8-4097-9bae-16b84a862340",
   "metadata": {},
   "outputs": [],
   "source": [
    "var4 = 1.\n",
    "type(var4)"
   ]
  },
  {
   "cell_type": "markdown",
   "id": "d8fbcace-4639-49b1-ab5b-5c12f6095de1",
   "metadata": {},
   "source": [
    "Q3. Explain the use of the following operators using an example:\n",
    "(i) /\n",
    "(ii) %\n",
    "(iii) //\n",
    "(iv) **\n"
   ]
  },
  {
   "cell_type": "code",
   "execution_count": 4,
   "id": "7848a34e-b966-47f0-a025-121efb3202c8",
   "metadata": {},
   "outputs": [
    {
     "name": "stdin",
     "output_type": "stream",
     "text": [
      " 13\n",
      " 13\n"
     ]
    },
    {
     "name": "stdout",
     "output_type": "stream",
     "text": [
      "1.0\n"
     ]
    }
   ],
   "source": [
    "a=int(input())\n",
    "b=int(input())\n",
    "c=a/b\n",
    "print(c)"
   ]
  },
  {
   "cell_type": "code",
   "execution_count": null,
   "id": "91b18529-9af4-4c1c-9fe9-ac05161d2fb2",
   "metadata": {},
   "outputs": [],
   "source": [
    "a=int(input())\n",
    "b=int(input())\n",
    "c=a%b\n",
    "print(c)"
   ]
  },
  {
   "cell_type": "code",
   "execution_count": null,
   "id": "82b8313d-95cd-4b32-9d0f-fac91dbe5e02",
   "metadata": {},
   "outputs": [],
   "source": [
    "a=int(input())\n",
    "b=int(input())\n",
    "c=a//b\n",
    "print(c)"
   ]
  },
  {
   "cell_type": "code",
   "execution_count": null,
   "id": "72168441-6cc9-49d0-af1d-dfacbe5ed37b",
   "metadata": {},
   "outputs": [],
   "source": [
    "a=int(input())\n",
    "b=int(input())\n",
    "c=a**b\n",
    "print(c)"
   ]
  },
  {
   "cell_type": "markdown",
   "id": "ef0e5120-fd28-4a64-b793-d261c1f0102a",
   "metadata": {},
   "source": [
    "4.Create a list of length 10 of your choice containing multiple types of data. Using for loop print the\n",
    "element and its data type.?\n"
   ]
  },
  {
   "cell_type": "code",
   "execution_count": 13,
   "id": "7fce50cc-7052-439f-a717-e9942c12d17d",
   "metadata": {},
   "outputs": [
    {
     "name": "stdout",
     "output_type": "stream",
     "text": [
      "<class 'int'>\n",
      "1\n",
      "<class 'int'>\n",
      "3\n",
      "<class 'int'>\n",
      "4\n",
      "<class 'int'>\n",
      "5\n",
      "<class 'int'>\n",
      "6\n",
      "<class 'float'>\n",
      "4.5\n",
      "<class 'str'>\n",
      "sagar\n",
      "<class 'complex'>\n",
      "(6+4j)\n",
      "<class 'bool'>\n",
      "True\n"
     ]
    }
   ],
   "source": [
    "l=[1,3,4,5,6,4.5,\"sagar\",6+4j,True]\n",
    "\n",
    "for n in l:\n",
    "    print(type(n))\n",
    "    print(n)"
   ]
  },
  {
   "cell_type": "markdown",
   "id": "55b7a6e6-daab-4e0b-8d69-5212e60e0d68",
   "metadata": {},
   "source": [
    "5.Using a while loop, verify if the number A is purely divisible by number B and if so then how many\n",
    "times it can be divisible ?"
   ]
  },
  {
   "cell_type": "code",
   "execution_count": 71,
   "id": "5065cbef-e636-45ab-a463-ceef4aa694f9",
   "metadata": {},
   "outputs": [
    {
     "name": "stdin",
     "output_type": "stream",
     "text": [
      "enter the value of a :  100\n"
     ]
    },
    {
     "name": "stdout",
     "output_type": "stream",
     "text": [
      "3\n"
     ]
    }
   ],
   "source": [
    "a=int(input(\"enter the value of a : \"))\n",
    "\n",
    "count=0\n",
    "\n",
    "\n",
    "while a!=0:\n",
    "    a=a//10\n",
    "    count+=1\n",
    "print(count)\n",
    "\n",
    "            \n",
    "    \n",
    "    \n"
   ]
  },
  {
   "cell_type": "markdown",
   "id": "bbaf3807-c68b-4811-b199-40b57e2b79d0",
   "metadata": {},
   "source": [
    "Q6. Create a list containing 25 int type data. Using for loop and if-else condition print if the element is\n",
    "divisible by 3 or not?"
   ]
  },
  {
   "cell_type": "code",
   "execution_count": 118,
   "id": "b144cf83-96c2-493a-b769-c5e7175e0a17",
   "metadata": {},
   "outputs": [
    {
     "name": "stdout",
     "output_type": "stream",
     "text": [
      "6 number is divisible by 3\n",
      "7 number is not divisible by 3\n",
      "8 number is not divisible by 3\n",
      "9 number is divisible by 3\n",
      "10 number is not divisible by 3\n",
      "11 number is not divisible by 3\n",
      "12 number is divisible by 3\n",
      "13 number is not divisible by 3\n",
      "14 number is not divisible by 3\n",
      "15 number is divisible by 3\n",
      "16 number is not divisible by 3\n",
      "17 number is not divisible by 3\n",
      "18 number is divisible by 3\n",
      "19 number is not divisible by 3\n",
      "20 number is not divisible by 3\n",
      "21 number is divisible by 3\n",
      "22 number is not divisible by 3\n",
      "23 number is not divisible by 3\n",
      "23 number is not divisible by 3\n",
      "25 number is not divisible by 3\n",
      "26 number is not divisible by 3\n",
      "27 number is divisible by 3\n",
      "28 number is not divisible by 3\n",
      "29 number is not divisible by 3\n",
      "30 number is divisible by 3\n",
      "31 number is not divisible by 3\n",
      "32 number is not divisible by 3\n",
      "33 number is divisible by 3\n",
      "34 number is not divisible by 3\n",
      "35 number is not divisible by 3\n",
      "36 number is divisible by 3\n",
      "37 number is not divisible by 3\n",
      "38 number is not divisible by 3\n",
      "39 number is divisible by 3\n",
      "40 number is not divisible by 3\n"
     ]
    }
   ],
   "source": [
    "l=[6, 7, 8, 9,10,11,12,13,14,15,16,17,18,19,20,21,22,23,23,25,26,27,28,29,30,31,32,33,34,35,36,37,38,39,40]\n",
    "for i in l :\n",
    "  if i%3==0 :\n",
    "    print(i,\"number is divisible by 3\")\n",
    "  else :\n",
    "        print(i,\"number is not divisible by 3\")\n",
    "\n",
    "\n",
    "    \n",
    "\n",
    "                \n",
    "    \n",
    "\n",
    "                    \n",
    "    \n",
    "\n",
    "    "
   ]
  },
  {
   "cell_type": "markdown",
   "id": "41656c79-3626-4b4b-afad-cd2c00189a2d",
   "metadata": {},
   "source": [
    "What do you understand about mutable and immutable data types? Give examples for both showing\n",
    "this property ?\n"
   ]
  },
  {
   "cell_type": "markdown",
   "id": "08720883-ea86-4d4b-80e9-d3096227ca64",
   "metadata": {},
   "source": [
    "ANS-you have an immutable object if you can't change the object's state after you've created it. In contrast, a mutable object allows you to modify its internal state after creation"
   ]
  },
  {
   "cell_type": "code",
   "execution_count": 120,
   "id": "0e9ed49f-1355-4d05-b02e-1a7a63b999db",
   "metadata": {},
   "outputs": [
    {
     "name": "stdout",
     "output_type": "stream",
     "text": [
      "[2, 3, 4, 400, 6, 'sudh', (3+7j), True, 34.36, False]\n"
     ]
    }
   ],
   "source": [
    "l=[2,3,4,5,6,\"sudh\",3+7J,True,34.36,False]\n",
    "l[3]=400\n",
    "print(l) #list is mutable object.we can modify after created list.\n",
    "\n",
    "\n",
    "\n",
    "\n",
    "\n",
    "    \n"
   ]
  },
  {
   "cell_type": "code",
   "execution_count": 119,
   "id": "04ef01e9-b670-4298-ac65-be2931d3bcee",
   "metadata": {},
   "outputs": [
    {
     "data": {
      "text/plain": [
       "list"
      ]
     },
     "execution_count": 119,
     "metadata": {},
     "output_type": "execute_result"
    }
   ],
   "source": [
    "s=\"sagar\"\n",
    "s[3]=\n"
   ]
  },
  {
   "cell_type": "code",
   "execution_count": 121,
   "id": "5a7a2402-e621-4a00-a4c2-e1de19a6fcf4",
   "metadata": {},
   "outputs": [
    {
     "data": {
      "text/plain": [
       "'S'"
      ]
     },
     "execution_count": 121,
     "metadata": {},
     "output_type": "execute_result"
    }
   ],
   "source": [
    "\n"
   ]
  },
  {
   "cell_type": "code",
   "execution_count": null,
   "id": "8e5a802d-2e0f-4d2d-84a1-e9f051168a68",
   "metadata": {},
   "outputs": [],
   "source": []
  }
 ],
 "metadata": {
  "kernelspec": {
   "display_name": "Python 3 (ipykernel)",
   "language": "python",
   "name": "python3"
  },
  "language_info": {
   "codemirror_mode": {
    "name": "ipython",
    "version": 3
   },
   "file_extension": ".py",
   "mimetype": "text/x-python",
   "name": "python",
   "nbconvert_exporter": "python",
   "pygments_lexer": "ipython3",
   "version": "3.10.8"
  }
 },
 "nbformat": 4,
 "nbformat_minor": 5
}
